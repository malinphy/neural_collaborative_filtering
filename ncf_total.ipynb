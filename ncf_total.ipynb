{
  "nbformat": 4,
  "nbformat_minor": 0,
  "metadata": {
    "colab": {
      "provenance": [],
      "collapsed_sections": []
    },
    "kernelspec": {
      "name": "python3",
      "display_name": "Python 3"
    },
    "language_info": {
      "name": "python"
    }
  },
  "cells": [
    {
      "cell_type": "code",
      "execution_count": 1,
      "metadata": {
        "id": "IcR-AmrmEe3j"
      },
      "outputs": [],
      "source": [
        "#### this notebook was created to properly implement NCF mode\n",
        "#### this code cannor pick target items for random selection"
      ]
    },
    {
      "cell_type": "code",
      "source": [
        "import numpy as np\n",
        "import pandas as pd\n",
        "import matplotlib.pyplot as plt\n",
        "plt.style.use('ggplot')\n",
        "from sklearn.metrics import confusion_matrix\n",
        "from sklearn.metrics import classification_report\n",
        "from sklearn.utils import shuffle\n",
        "\n",
        "import tensorflow as tf\n",
        "from tensorflow import keras \n",
        "from tensorflow.keras import layers,Input, Model\n",
        "from tensorflow.keras.layers import Dense, Concatenate, Multiply, Embedding,Dot, Dropout\n",
        "from tensorflow.keras.layers import *"
      ],
      "metadata": {
        "id": "TlhqfZAxspgV"
      },
      "execution_count": 2,
      "outputs": []
    },
    {
      "cell_type": "code",
      "source": [
        "LATENT_DIM = 16 ### basically embedding_dimension\n",
        "DROP_RATE = 0.9 # dropout rate for dropout layer \n",
        "TRAIN_NEG_NUM = 4 # negative examples for train set\n",
        "TEST_NEG_NUM = 100 # negative examples for test set\n",
        "NUM_EPOCHS = 10\n",
        "BATCH_SIZE = 256"
      ],
      "metadata": {
        "id": "zIFg-7xU_wJb"
      },
      "execution_count": 3,
      "outputs": []
    },
    {
      "cell_type": "code",
      "source": [
        "u_item_link = 'https://raw.githubusercontent.com/malinphy/datasets/main/ml100K/u_item.csv'\n",
        "item_df = pd.read_csv(u_item_link)\n",
        "item_df = item_df[['movie id', 'movie title']]\n",
        "item_df = item_df.rename(columns={\"movie id\": \"item_id\",\"movie title\": \"movie_title\"})\n",
        "# print('unique_item_id',len(item_df['item_id'].unique()))\n",
        "# print('unique_movie_title',len(item_df['movie_title'].unique()))\n",
        "\n",
        "# dup_items = np.where(item_df.duplicated(subset = ['movie_title']) == True)[0]\n",
        "# # print(dup_items)\n",
        "# titles = []\n",
        "\n",
        "# for i in dup_items:\n",
        "#     x = str(item_df.iloc[dup_items]['movie_title'][i])\n",
        "#     titles.append(x)\n",
        "\n",
        "# for i in titles:\n",
        "#     print(item_df[item_df['movie_title'] == i])\n",
        "# \"\"\"\n",
        "# as seen from number of unique item and number of unique movie title\n",
        "# are different from each other. Therefore, it is concluded that \n",
        "# some data points are duplicated. I prefer to drop one of the duplicated item .\n",
        "# \"\"\"\n",
        "# item_df = item_df.drop_duplicates(subset = ['movie_title'],keep ='last').reset_index(drop = True)"
      ],
      "metadata": {
        "id": "qKUulZK4_wGh"
      },
      "execution_count": 4,
      "outputs": []
    },
    {
      "cell_type": "code",
      "source": [
        "def encoder_2(df, col):\n",
        "    df = df.sort_values(by = [col]).reset_index(drop = True)\n",
        "    unique_features = df[col].unique()\n",
        "    feature_2enc = {i:j for i,j in enumerate(df[col].unique())}\n",
        "    enc_2feature = {j:i for i,j in enumerate(df[col].unique())}\n",
        "\n",
        "    return feature_2enc, enc_2feature\n",
        "\n",
        "def sequencer(df,col):\n",
        "    var = df.groupby(col).aggregate(lambda tdf: tdf.unique().tolist()) \n",
        "    var = var.reset_index()\n",
        "\n",
        "    return var\n",
        "\n",
        "def train_test_maker(df,col): ### df will be in sequential format\n",
        "    last_items = []\n",
        "    for i in range(len(df)):\n",
        "        last_items.append(np.array(df[col][i][-1]))\n",
        "\n",
        "    mid_items = []\n",
        "    for i in range(len(df)):\n",
        "        mid_items.append(df[col][i][:-1])\n",
        "\n",
        "    return (last_items, mid_items)\n",
        "\n",
        "def train_test_maker(df,col): ### df will be in sequential format\n",
        "    last_items = []\n",
        "    for i in range(len(df)):\n",
        "        last_items.append(np.array(df[col][i][-1]))\n",
        "\n",
        "    mid_items = []\n",
        "    for i in range(len(df)):\n",
        "        mid_items.append(df[col][i][:-1])\n",
        "\n",
        "    return (last_items, mid_items)    \n",
        "\n",
        "def train_neg_maker(num_neg, df,col):\n",
        "    num_neg = num_neg\n",
        "    neg3 = []\n",
        "    ui= 0\n",
        "    us = []\n",
        "    for i in df[col]:\n",
        "        pos_set = i\n",
        "        neg2 = []\n",
        "  \n",
        "        for j in range(num_neg):\n",
        "            neg1 = []\n",
        "            for k in pos_set:\n",
        "      \n",
        "                neg_candidate = np.random.randint(1,len(unique_item_enc))\n",
        "                while neg_candidate in pos_set:\n",
        "                    neg_candidate = np.random.randint(1,len(unique_item_enc))\n",
        "                us.append(ui)\n",
        "      \n",
        "                neg1.append((neg_candidate))\n",
        "            neg2.append(np.array(neg1))\n",
        "        ui += 1\n",
        "        neg3.append(neg2)\n",
        "    \n",
        "    return us, neg3\n",
        "\n",
        "def test_negative_maker(num_neg,df,col):\n",
        "    num_neg = num_neg\n",
        "    neg3 = []\n",
        "    ui= 0\n",
        "    us = []\n",
        "    neg2 = []\n",
        "    for i in df[col]:\n",
        "        pos_set = i\n",
        "  \n",
        "        neg1 = []\n",
        "        for j in range(num_neg):\n",
        "    \n",
        "            neg_candidate = np.random.randint(1,len(unique_item_enc))\n",
        "\n",
        "            while neg_candidate == pos_set:\n",
        "\n",
        "                neg_candidate = np.random.randint(1,len(unique_item_enc))\n",
        "            us.append(ui)\n",
        "      \n",
        "            neg1.append((neg_candidate))\n",
        "        neg2.append(np.array(neg1))\n",
        "\n",
        "    return neg2"
      ],
      "metadata": {
        "id": "KRc7VpMaE6PD"
      },
      "execution_count": 5,
      "outputs": []
    },
    {
      "cell_type": "code",
      "source": [
        "item_2title = { item_df['item_id'][i] : item_df['movie_title'][i]  for i in range(len(item_df))}\n",
        "title_2item = { item_df['movie_title'][i] : item_df['item_id'][i]   for i in range(len(item_df))}\n"
      ],
      "metadata": {
        "id": "r_EZFbZC_wDj"
      },
      "execution_count": 6,
      "outputs": []
    },
    {
      "cell_type": "code",
      "source": [
        "u_data_link = 'https://raw.githubusercontent.com/malinphy/datasets/main/ml100K/u.data'\n",
        "df = pd.read_csv(u_data_link,delimiter='\\t',header=None)\n",
        "col_titles = ['user_id', 'item_id' , 'rating' , 'timestamp']\n",
        "df.columns = col_titles\n",
        "df = df.drop(columns = ['timestamp'])\n",
        "\n",
        "num_users = len(df['user_id'].unique())\n",
        "num_items = len(df['item_id'].unique())\n",
        "\n",
        "print('number of different users :', num_users)\n",
        "print('number of different items :', num_items)"
      ],
      "metadata": {
        "colab": {
          "base_uri": "https://localhost:8080/"
        },
        "id": "M6lvbJrd_wAU",
        "outputId": "5cfad507-e48f-4342-9c3d-38729bb31817"
      },
      "execution_count": 7,
      "outputs": [
        {
          "output_type": "stream",
          "name": "stdout",
          "text": [
            "number of different users : 943\n",
            "number of different items : 1682\n"
          ]
        }
      ]
    },
    {
      "cell_type": "code",
      "source": [
        "user_2enc, enc_2user = encoder_2(df, 'user_id')\n",
        "item_2enc, enc_2item = encoder_2(df, 'item_id')"
      ],
      "metadata": {
        "id": "j6w1C9oL_v9N"
      },
      "execution_count": 8,
      "outputs": []
    },
    {
      "cell_type": "code",
      "source": [
        "# user_2enc.keys()\n",
        "# user_2enc.values()\n",
        "df['user_id_enc']= df['user_id'].map(enc_2user).astype('int32')\n",
        "df['item_id_enc']= df['item_id'].map(enc_2item).astype('int32')\n",
        "unique_user_enc = user_2enc.keys()\n",
        "unique_item_enc = item_2enc.keys()\n",
        "\n",
        "df_enc = df[['user_id_enc','item_id_enc','rating']]\n",
        "df_enc.head(3)"
      ],
      "metadata": {
        "colab": {
          "base_uri": "https://localhost:8080/",
          "height": 143
        },
        "id": "U8IUGbIf_v50",
        "outputId": "063943fb-26a1-433c-bc2a-6d42f144044f"
      },
      "execution_count": 9,
      "outputs": [
        {
          "output_type": "execute_result",
          "data": {
            "text/plain": [
              "   user_id_enc  item_id_enc  rating\n",
              "0          195          241       3\n",
              "1          185          301       3\n",
              "2           21          376       1"
            ],
            "text/html": [
              "\n",
              "  <div id=\"df-1e6c43f7-e0c0-4eda-9a50-bbd2584ca44f\">\n",
              "    <div class=\"colab-df-container\">\n",
              "      <div>\n",
              "<style scoped>\n",
              "    .dataframe tbody tr th:only-of-type {\n",
              "        vertical-align: middle;\n",
              "    }\n",
              "\n",
              "    .dataframe tbody tr th {\n",
              "        vertical-align: top;\n",
              "    }\n",
              "\n",
              "    .dataframe thead th {\n",
              "        text-align: right;\n",
              "    }\n",
              "</style>\n",
              "<table border=\"1\" class=\"dataframe\">\n",
              "  <thead>\n",
              "    <tr style=\"text-align: right;\">\n",
              "      <th></th>\n",
              "      <th>user_id_enc</th>\n",
              "      <th>item_id_enc</th>\n",
              "      <th>rating</th>\n",
              "    </tr>\n",
              "  </thead>\n",
              "  <tbody>\n",
              "    <tr>\n",
              "      <th>0</th>\n",
              "      <td>195</td>\n",
              "      <td>241</td>\n",
              "      <td>3</td>\n",
              "    </tr>\n",
              "    <tr>\n",
              "      <th>1</th>\n",
              "      <td>185</td>\n",
              "      <td>301</td>\n",
              "      <td>3</td>\n",
              "    </tr>\n",
              "    <tr>\n",
              "      <th>2</th>\n",
              "      <td>21</td>\n",
              "      <td>376</td>\n",
              "      <td>1</td>\n",
              "    </tr>\n",
              "  </tbody>\n",
              "</table>\n",
              "</div>\n",
              "      <button class=\"colab-df-convert\" onclick=\"convertToInteractive('df-1e6c43f7-e0c0-4eda-9a50-bbd2584ca44f')\"\n",
              "              title=\"Convert this dataframe to an interactive table.\"\n",
              "              style=\"display:none;\">\n",
              "        \n",
              "  <svg xmlns=\"http://www.w3.org/2000/svg\" height=\"24px\"viewBox=\"0 0 24 24\"\n",
              "       width=\"24px\">\n",
              "    <path d=\"M0 0h24v24H0V0z\" fill=\"none\"/>\n",
              "    <path d=\"M18.56 5.44l.94 2.06.94-2.06 2.06-.94-2.06-.94-.94-2.06-.94 2.06-2.06.94zm-11 1L8.5 8.5l.94-2.06 2.06-.94-2.06-.94L8.5 2.5l-.94 2.06-2.06.94zm10 10l.94 2.06.94-2.06 2.06-.94-2.06-.94-.94-2.06-.94 2.06-2.06.94z\"/><path d=\"M17.41 7.96l-1.37-1.37c-.4-.4-.92-.59-1.43-.59-.52 0-1.04.2-1.43.59L10.3 9.45l-7.72 7.72c-.78.78-.78 2.05 0 2.83L4 21.41c.39.39.9.59 1.41.59.51 0 1.02-.2 1.41-.59l7.78-7.78 2.81-2.81c.8-.78.8-2.07 0-2.86zM5.41 20L4 18.59l7.72-7.72 1.47 1.35L5.41 20z\"/>\n",
              "  </svg>\n",
              "      </button>\n",
              "      \n",
              "  <style>\n",
              "    .colab-df-container {\n",
              "      display:flex;\n",
              "      flex-wrap:wrap;\n",
              "      gap: 12px;\n",
              "    }\n",
              "\n",
              "    .colab-df-convert {\n",
              "      background-color: #E8F0FE;\n",
              "      border: none;\n",
              "      border-radius: 50%;\n",
              "      cursor: pointer;\n",
              "      display: none;\n",
              "      fill: #1967D2;\n",
              "      height: 32px;\n",
              "      padding: 0 0 0 0;\n",
              "      width: 32px;\n",
              "    }\n",
              "\n",
              "    .colab-df-convert:hover {\n",
              "      background-color: #E2EBFA;\n",
              "      box-shadow: 0px 1px 2px rgba(60, 64, 67, 0.3), 0px 1px 3px 1px rgba(60, 64, 67, 0.15);\n",
              "      fill: #174EA6;\n",
              "    }\n",
              "\n",
              "    [theme=dark] .colab-df-convert {\n",
              "      background-color: #3B4455;\n",
              "      fill: #D2E3FC;\n",
              "    }\n",
              "\n",
              "    [theme=dark] .colab-df-convert:hover {\n",
              "      background-color: #434B5C;\n",
              "      box-shadow: 0px 1px 3px 1px rgba(0, 0, 0, 0.15);\n",
              "      filter: drop-shadow(0px 1px 2px rgba(0, 0, 0, 0.3));\n",
              "      fill: #FFFFFF;\n",
              "    }\n",
              "  </style>\n",
              "\n",
              "      <script>\n",
              "        const buttonEl =\n",
              "          document.querySelector('#df-1e6c43f7-e0c0-4eda-9a50-bbd2584ca44f button.colab-df-convert');\n",
              "        buttonEl.style.display =\n",
              "          google.colab.kernel.accessAllowed ? 'block' : 'none';\n",
              "\n",
              "        async function convertToInteractive(key) {\n",
              "          const element = document.querySelector('#df-1e6c43f7-e0c0-4eda-9a50-bbd2584ca44f');\n",
              "          const dataTable =\n",
              "            await google.colab.kernel.invokeFunction('convertToInteractive',\n",
              "                                                     [key], {});\n",
              "          if (!dataTable) return;\n",
              "\n",
              "          const docLinkHtml = 'Like what you see? Visit the ' +\n",
              "            '<a target=\"_blank\" href=https://colab.research.google.com/notebooks/data_table.ipynb>data table notebook</a>'\n",
              "            + ' to learn more about interactive tables.';\n",
              "          element.innerHTML = '';\n",
              "          dataTable['output_type'] = 'display_data';\n",
              "          await google.colab.output.renderOutput(dataTable, element);\n",
              "          const docLink = document.createElement('div');\n",
              "          docLink.innerHTML = docLinkHtml;\n",
              "          element.appendChild(docLink);\n",
              "        }\n",
              "      </script>\n",
              "    </div>\n",
              "  </div>\n",
              "  "
            ]
          },
          "metadata": {},
          "execution_count": 9
        }
      ]
    },
    {
      "cell_type": "code",
      "source": [
        "df_2 = df_enc[['user_id_enc','item_id_enc','rating']]\n",
        "df_2['rating'] = 1\n",
        "df_enc_seq =sequencer(df_2,'user_id_enc')\n",
        "df_enc_seq.head(3)"
      ],
      "metadata": {
        "colab": {
          "base_uri": "https://localhost:8080/",
          "height": 143
        },
        "id": "aYC0p5la_vzA",
        "outputId": "113de446-7311-459c-d2e4-54409e9683eb"
      },
      "execution_count": 10,
      "outputs": [
        {
          "output_type": "execute_result",
          "data": {
            "text/plain": [
              "   user_id_enc                                        item_id_enc rating\n",
              "0            0  [60, 188, 32, 159, 19, 201, 170, 264, 154, 116...    [1]\n",
              "1            1  [291, 250, 49, 313, 296, 289, 311, 280, 12, 27...    [1]\n",
              "2            2  [334, 244, 336, 342, 322, 330, 293, 331, 327, ...    [1]"
            ],
            "text/html": [
              "\n",
              "  <div id=\"df-a86df489-0f0b-4798-a370-9d352e2d8388\">\n",
              "    <div class=\"colab-df-container\">\n",
              "      <div>\n",
              "<style scoped>\n",
              "    .dataframe tbody tr th:only-of-type {\n",
              "        vertical-align: middle;\n",
              "    }\n",
              "\n",
              "    .dataframe tbody tr th {\n",
              "        vertical-align: top;\n",
              "    }\n",
              "\n",
              "    .dataframe thead th {\n",
              "        text-align: right;\n",
              "    }\n",
              "</style>\n",
              "<table border=\"1\" class=\"dataframe\">\n",
              "  <thead>\n",
              "    <tr style=\"text-align: right;\">\n",
              "      <th></th>\n",
              "      <th>user_id_enc</th>\n",
              "      <th>item_id_enc</th>\n",
              "      <th>rating</th>\n",
              "    </tr>\n",
              "  </thead>\n",
              "  <tbody>\n",
              "    <tr>\n",
              "      <th>0</th>\n",
              "      <td>0</td>\n",
              "      <td>[60, 188, 32, 159, 19, 201, 170, 264, 154, 116...</td>\n",
              "      <td>[1]</td>\n",
              "    </tr>\n",
              "    <tr>\n",
              "      <th>1</th>\n",
              "      <td>1</td>\n",
              "      <td>[291, 250, 49, 313, 296, 289, 311, 280, 12, 27...</td>\n",
              "      <td>[1]</td>\n",
              "    </tr>\n",
              "    <tr>\n",
              "      <th>2</th>\n",
              "      <td>2</td>\n",
              "      <td>[334, 244, 336, 342, 322, 330, 293, 331, 327, ...</td>\n",
              "      <td>[1]</td>\n",
              "    </tr>\n",
              "  </tbody>\n",
              "</table>\n",
              "</div>\n",
              "      <button class=\"colab-df-convert\" onclick=\"convertToInteractive('df-a86df489-0f0b-4798-a370-9d352e2d8388')\"\n",
              "              title=\"Convert this dataframe to an interactive table.\"\n",
              "              style=\"display:none;\">\n",
              "        \n",
              "  <svg xmlns=\"http://www.w3.org/2000/svg\" height=\"24px\"viewBox=\"0 0 24 24\"\n",
              "       width=\"24px\">\n",
              "    <path d=\"M0 0h24v24H0V0z\" fill=\"none\"/>\n",
              "    <path d=\"M18.56 5.44l.94 2.06.94-2.06 2.06-.94-2.06-.94-.94-2.06-.94 2.06-2.06.94zm-11 1L8.5 8.5l.94-2.06 2.06-.94-2.06-.94L8.5 2.5l-.94 2.06-2.06.94zm10 10l.94 2.06.94-2.06 2.06-.94-2.06-.94-.94-2.06-.94 2.06-2.06.94z\"/><path d=\"M17.41 7.96l-1.37-1.37c-.4-.4-.92-.59-1.43-.59-.52 0-1.04.2-1.43.59L10.3 9.45l-7.72 7.72c-.78.78-.78 2.05 0 2.83L4 21.41c.39.39.9.59 1.41.59.51 0 1.02-.2 1.41-.59l7.78-7.78 2.81-2.81c.8-.78.8-2.07 0-2.86zM5.41 20L4 18.59l7.72-7.72 1.47 1.35L5.41 20z\"/>\n",
              "  </svg>\n",
              "      </button>\n",
              "      \n",
              "  <style>\n",
              "    .colab-df-container {\n",
              "      display:flex;\n",
              "      flex-wrap:wrap;\n",
              "      gap: 12px;\n",
              "    }\n",
              "\n",
              "    .colab-df-convert {\n",
              "      background-color: #E8F0FE;\n",
              "      border: none;\n",
              "      border-radius: 50%;\n",
              "      cursor: pointer;\n",
              "      display: none;\n",
              "      fill: #1967D2;\n",
              "      height: 32px;\n",
              "      padding: 0 0 0 0;\n",
              "      width: 32px;\n",
              "    }\n",
              "\n",
              "    .colab-df-convert:hover {\n",
              "      background-color: #E2EBFA;\n",
              "      box-shadow: 0px 1px 2px rgba(60, 64, 67, 0.3), 0px 1px 3px 1px rgba(60, 64, 67, 0.15);\n",
              "      fill: #174EA6;\n",
              "    }\n",
              "\n",
              "    [theme=dark] .colab-df-convert {\n",
              "      background-color: #3B4455;\n",
              "      fill: #D2E3FC;\n",
              "    }\n",
              "\n",
              "    [theme=dark] .colab-df-convert:hover {\n",
              "      background-color: #434B5C;\n",
              "      box-shadow: 0px 1px 3px 1px rgba(0, 0, 0, 0.15);\n",
              "      filter: drop-shadow(0px 1px 2px rgba(0, 0, 0, 0.3));\n",
              "      fill: #FFFFFF;\n",
              "    }\n",
              "  </style>\n",
              "\n",
              "      <script>\n",
              "        const buttonEl =\n",
              "          document.querySelector('#df-a86df489-0f0b-4798-a370-9d352e2d8388 button.colab-df-convert');\n",
              "        buttonEl.style.display =\n",
              "          google.colab.kernel.accessAllowed ? 'block' : 'none';\n",
              "\n",
              "        async function convertToInteractive(key) {\n",
              "          const element = document.querySelector('#df-a86df489-0f0b-4798-a370-9d352e2d8388');\n",
              "          const dataTable =\n",
              "            await google.colab.kernel.invokeFunction('convertToInteractive',\n",
              "                                                     [key], {});\n",
              "          if (!dataTable) return;\n",
              "\n",
              "          const docLinkHtml = 'Like what you see? Visit the ' +\n",
              "            '<a target=\"_blank\" href=https://colab.research.google.com/notebooks/data_table.ipynb>data table notebook</a>'\n",
              "            + ' to learn more about interactive tables.';\n",
              "          element.innerHTML = '';\n",
              "          dataTable['output_type'] = 'display_data';\n",
              "          await google.colab.output.renderOutput(dataTable, element);\n",
              "          const docLink = document.createElement('div');\n",
              "          docLink.innerHTML = docLinkHtml;\n",
              "          element.appendChild(docLink);\n",
              "        }\n",
              "      </script>\n",
              "    </div>\n",
              "  </div>\n",
              "  "
            ]
          },
          "metadata": {},
          "execution_count": 10
        }
      ]
    },
    {
      "cell_type": "code",
      "source": [
        "last_items, mid_items = train_test_maker(df_enc_seq,'item_id_enc')\n",
        "\n",
        "test_df_seq = pd.DataFrame({'user_id_enc':unique_user_enc,\n",
        "                        'item_id_enc':np.array(last_items),\n",
        "                        'rating':np.ones(len(last_items),dtype = 'int32')})\n",
        "\n",
        "train_df_seq = pd.DataFrame({'user_id_enc':unique_user_enc,\n",
        "                        'item_id_enc':mid_items,\n",
        "                        'rating':np.ones(len(mid_items),dtype = 'int32')})\n",
        "\n",
        "test_df = pd.DataFrame({'user_id_enc':df_enc_seq['user_id_enc'].copy(),\n",
        "                        'item_id_enc':last_items, \n",
        "                        'rating' : np.ones(len(last_items),dtype='int32') \n",
        "                         })\n"
      ],
      "metadata": {
        "id": "uXzDogc6__Wu"
      },
      "execution_count": 11,
      "outputs": []
    },
    {
      "cell_type": "code",
      "source": [
        "last_items, mid_items = train_test_maker(df_enc_seq,'item_id_enc')\n",
        "\n",
        "test_df_seq = pd.DataFrame({'user_id_enc':unique_user_enc,\n",
        "                        'item_id_enc':np.array(last_items),\n",
        "                        'rating':np.ones(len(last_items),dtype = 'int32')})\n",
        "\n",
        "train_df_seq = pd.DataFrame({'user_id_enc':unique_user_enc,\n",
        "                        'item_id_enc':mid_items,\n",
        "                        'rating':np.ones(len(mid_items),dtype = 'int32')})\n",
        "\n",
        "test_df = pd.DataFrame({'user_id_enc':df_enc_seq['user_id_enc'].copy(),\n",
        "                        'item_id_enc':last_items, \n",
        "                        'rating' : np.ones(len(last_items),dtype='int32') \n",
        "                         })"
      ],
      "metadata": {
        "id": "T00SvD13__Iu"
      },
      "execution_count": 12,
      "outputs": []
    },
    {
      "cell_type": "code",
      "source": [
        "user_create = []\n",
        "for i in range(len(mid_items)):\n",
        "  \n",
        "  user_create.append(np.full(len(mid_items[i]),i))\n",
        "\n",
        "train_df = pd.DataFrame({'user_id_enc':np.concatenate(user_create),\n",
        "                        'item_id_enc':np.concatenate(mid_items), \n",
        "                        'ratings' : np.ones(len(np.concatenate(user_create)),dtype='int32') \n",
        "                         })"
      ],
      "metadata": {
        "id": "ZZwpeTHk__Fl"
      },
      "execution_count": 13,
      "outputs": []
    },
    {
      "cell_type": "code",
      "source": [
        "us , neg3 = train_neg_maker(TRAIN_NEG_NUM,df_enc_seq,'item_id_enc')"
      ],
      "metadata": {
        "id": "kUAQNNLK__Cj"
      },
      "execution_count": 14,
      "outputs": []
    },
    {
      "cell_type": "code",
      "source": [
        "train_neg = pd.DataFrame({'user_id_enc':us,\n",
        "              'item_id_enc':np.concatenate(np.concatenate(np.array(neg3))),\n",
        "              'ratings':np.zeros(len(us), dtype='int32')})\n",
        "train_neg.head(3)"
      ],
      "metadata": {
        "colab": {
          "base_uri": "https://localhost:8080/",
          "height": 199
        },
        "id": "Pgay8DwO_-_i",
        "outputId": "1ad0d2f6-811f-4e0c-e0cd-17e600adba65"
      },
      "execution_count": 15,
      "outputs": [
        {
          "output_type": "stream",
          "name": "stderr",
          "text": [
            "/usr/local/lib/python3.7/dist-packages/ipykernel_launcher.py:2: VisibleDeprecationWarning: Creating an ndarray from ragged nested sequences (which is a list-or-tuple of lists-or-tuples-or ndarrays with different lengths or shapes) is deprecated. If you meant to do this, you must specify 'dtype=object' when creating the ndarray.\n",
            "  \n"
          ]
        },
        {
          "output_type": "execute_result",
          "data": {
            "text/plain": [
              "   user_id_enc  item_id_enc  ratings\n",
              "0            0          737        0\n",
              "1            0          488        0\n",
              "2            0          924        0"
            ],
            "text/html": [
              "\n",
              "  <div id=\"df-6a1d46e2-a78d-418e-8b78-2fa86857db32\">\n",
              "    <div class=\"colab-df-container\">\n",
              "      <div>\n",
              "<style scoped>\n",
              "    .dataframe tbody tr th:only-of-type {\n",
              "        vertical-align: middle;\n",
              "    }\n",
              "\n",
              "    .dataframe tbody tr th {\n",
              "        vertical-align: top;\n",
              "    }\n",
              "\n",
              "    .dataframe thead th {\n",
              "        text-align: right;\n",
              "    }\n",
              "</style>\n",
              "<table border=\"1\" class=\"dataframe\">\n",
              "  <thead>\n",
              "    <tr style=\"text-align: right;\">\n",
              "      <th></th>\n",
              "      <th>user_id_enc</th>\n",
              "      <th>item_id_enc</th>\n",
              "      <th>ratings</th>\n",
              "    </tr>\n",
              "  </thead>\n",
              "  <tbody>\n",
              "    <tr>\n",
              "      <th>0</th>\n",
              "      <td>0</td>\n",
              "      <td>737</td>\n",
              "      <td>0</td>\n",
              "    </tr>\n",
              "    <tr>\n",
              "      <th>1</th>\n",
              "      <td>0</td>\n",
              "      <td>488</td>\n",
              "      <td>0</td>\n",
              "    </tr>\n",
              "    <tr>\n",
              "      <th>2</th>\n",
              "      <td>0</td>\n",
              "      <td>924</td>\n",
              "      <td>0</td>\n",
              "    </tr>\n",
              "  </tbody>\n",
              "</table>\n",
              "</div>\n",
              "      <button class=\"colab-df-convert\" onclick=\"convertToInteractive('df-6a1d46e2-a78d-418e-8b78-2fa86857db32')\"\n",
              "              title=\"Convert this dataframe to an interactive table.\"\n",
              "              style=\"display:none;\">\n",
              "        \n",
              "  <svg xmlns=\"http://www.w3.org/2000/svg\" height=\"24px\"viewBox=\"0 0 24 24\"\n",
              "       width=\"24px\">\n",
              "    <path d=\"M0 0h24v24H0V0z\" fill=\"none\"/>\n",
              "    <path d=\"M18.56 5.44l.94 2.06.94-2.06 2.06-.94-2.06-.94-.94-2.06-.94 2.06-2.06.94zm-11 1L8.5 8.5l.94-2.06 2.06-.94-2.06-.94L8.5 2.5l-.94 2.06-2.06.94zm10 10l.94 2.06.94-2.06 2.06-.94-2.06-.94-.94-2.06-.94 2.06-2.06.94z\"/><path d=\"M17.41 7.96l-1.37-1.37c-.4-.4-.92-.59-1.43-.59-.52 0-1.04.2-1.43.59L10.3 9.45l-7.72 7.72c-.78.78-.78 2.05 0 2.83L4 21.41c.39.39.9.59 1.41.59.51 0 1.02-.2 1.41-.59l7.78-7.78 2.81-2.81c.8-.78.8-2.07 0-2.86zM5.41 20L4 18.59l7.72-7.72 1.47 1.35L5.41 20z\"/>\n",
              "  </svg>\n",
              "      </button>\n",
              "      \n",
              "  <style>\n",
              "    .colab-df-container {\n",
              "      display:flex;\n",
              "      flex-wrap:wrap;\n",
              "      gap: 12px;\n",
              "    }\n",
              "\n",
              "    .colab-df-convert {\n",
              "      background-color: #E8F0FE;\n",
              "      border: none;\n",
              "      border-radius: 50%;\n",
              "      cursor: pointer;\n",
              "      display: none;\n",
              "      fill: #1967D2;\n",
              "      height: 32px;\n",
              "      padding: 0 0 0 0;\n",
              "      width: 32px;\n",
              "    }\n",
              "\n",
              "    .colab-df-convert:hover {\n",
              "      background-color: #E2EBFA;\n",
              "      box-shadow: 0px 1px 2px rgba(60, 64, 67, 0.3), 0px 1px 3px 1px rgba(60, 64, 67, 0.15);\n",
              "      fill: #174EA6;\n",
              "    }\n",
              "\n",
              "    [theme=dark] .colab-df-convert {\n",
              "      background-color: #3B4455;\n",
              "      fill: #D2E3FC;\n",
              "    }\n",
              "\n",
              "    [theme=dark] .colab-df-convert:hover {\n",
              "      background-color: #434B5C;\n",
              "      box-shadow: 0px 1px 3px 1px rgba(0, 0, 0, 0.15);\n",
              "      filter: drop-shadow(0px 1px 2px rgba(0, 0, 0, 0.3));\n",
              "      fill: #FFFFFF;\n",
              "    }\n",
              "  </style>\n",
              "\n",
              "      <script>\n",
              "        const buttonEl =\n",
              "          document.querySelector('#df-6a1d46e2-a78d-418e-8b78-2fa86857db32 button.colab-df-convert');\n",
              "        buttonEl.style.display =\n",
              "          google.colab.kernel.accessAllowed ? 'block' : 'none';\n",
              "\n",
              "        async function convertToInteractive(key) {\n",
              "          const element = document.querySelector('#df-6a1d46e2-a78d-418e-8b78-2fa86857db32');\n",
              "          const dataTable =\n",
              "            await google.colab.kernel.invokeFunction('convertToInteractive',\n",
              "                                                     [key], {});\n",
              "          if (!dataTable) return;\n",
              "\n",
              "          const docLinkHtml = 'Like what you see? Visit the ' +\n",
              "            '<a target=\"_blank\" href=https://colab.research.google.com/notebooks/data_table.ipynb>data table notebook</a>'\n",
              "            + ' to learn more about interactive tables.';\n",
              "          element.innerHTML = '';\n",
              "          dataTable['output_type'] = 'display_data';\n",
              "          await google.colab.output.renderOutput(dataTable, element);\n",
              "          const docLink = document.createElement('div');\n",
              "          docLink.innerHTML = docLinkHtml;\n",
              "          element.appendChild(docLink);\n",
              "        }\n",
              "      </script>\n",
              "    </div>\n",
              "  </div>\n",
              "  "
            ]
          },
          "metadata": {},
          "execution_count": 15
        }
      ]
    },
    {
      "cell_type": "code",
      "source": [
        "test_negs = test_negative_maker(TEST_NEG_NUM,test_df_seq,'item_id_enc')\n",
        "test_negatives = pd.DataFrame(test_negs)\n",
        "test_negatives\n",
        "test_negatives.columns = np.arange(1,TEST_NEG_NUM+1)\n",
        "\n",
        "train_total = shuffle(pd.concat([train_neg,train_df]))"
      ],
      "metadata": {
        "id": "66EPweKFAN0x"
      },
      "execution_count": 16,
      "outputs": []
    },
    {
      "cell_type": "code",
      "source": [
        "def model(num_users, num_items):\n",
        "    emb_dim = 16\n",
        "\n",
        "    user_input = Input(shape = (1,), name = 'user_input')\n",
        "    item_input = Input(shape = (1,), name = 'item_input')\n",
        "\n",
        "    user_emb_mlp = Embedding(num_users+1, LATENT_DIM, name = 'user_emb_mlp')(user_input)\n",
        "    item_emb_mlp = Embedding(num_items+1, LATENT_DIM, name = 'item_emb_mlp')(item_input)\n",
        "\n",
        "    user_emb_gmf = Embedding(num_users+1, LATENT_DIM, name = 'user_emb_gmf')(user_input)\n",
        "    item_emb_gmf = Embedding(num_items+1, LATENT_DIM, name = 'item_emb_gmf')(item_input)\n",
        "\n",
        "    mult_layer = Multiply(name = 'element_wise_multiplication_gmf'\n",
        "                    )([user_emb_gmf, item_emb_gmf])\n",
        "\n",
        "    concat_layer = Concatenate()([user_emb_mlp,item_emb_gmf])\n",
        "\n",
        "    dense_1 = Dense(64, activation = 'relu', name = 'dense_1_mlp')(concat_layer)\n",
        "    dense_1 = Dropout(DROP_RATE)(dense_1)\n",
        "    dense_2 = Dense(32, activation = 'relu', name = 'dense_2_mlp')(dense_1)\n",
        "    dense_2 = Dropout(DROP_RATE)(dense_2)\n",
        "    dense_3 = Dense(16, activation = 'relu', name = 'dense_3_mlp')(dense_2)\n",
        "    dense_3 = Dropout(DROP_RATE)(dense_3)\n",
        "    dense_4 = Dense(8, activation = 'relu')(dense_3)\n",
        "    dense_4 = Dropout(DROP_RATE)(dense_4)\n",
        "    # dense_5 = Dense(4, activation = 'relu')(dense_4)\n",
        "\n",
        "    neuMF_layer = Concatenate(axis=-1, name = 'NeuMF_layer')([mult_layer,dense_4])\n",
        "\n",
        "    final = Dense(1, activation = 'sigmoid', name = 'final_layer')(neuMF_layer)\n",
        "\n",
        "    return Model(inputs = [user_input, item_input], outputs = [final])\n",
        "mlp_model = model(num_users, num_items)\n",
        "mlp_model.compile(\n",
        "    # loss = tf.keras.losses.BinaryCrossentropy(),\n",
        "    loss = 'BinaryCrossentropy',\n",
        "    optimizer = 'Adam',\n",
        "    metrics = ['accuracy']\n",
        "    )\n",
        "\n",
        "mlp_hist = mlp_model.fit([train_total['user_id_enc'], train_total['item_id_enc']],\n",
        "              train_total['ratings'],\n",
        "              epochs = 20,\n",
        "            #   verbose = 0,\n",
        "            #   batch_size = BATCH_SIZE\n",
        "              )"
      ],
      "metadata": {
        "colab": {
          "base_uri": "https://localhost:8080/"
        },
        "id": "NNkiUG8JANxV",
        "outputId": "a3212525-e574-4aee-8cef-72db9c639b54"
      },
      "execution_count": 17,
      "outputs": [
        {
          "output_type": "stream",
          "name": "stdout",
          "text": [
            "Epoch 1/20\n",
            "15596/15596 [==============================] - 61s 4ms/step - loss: 0.3869 - accuracy: 0.8353\n",
            "Epoch 2/20\n",
            "15596/15596 [==============================] - 54s 3ms/step - loss: 0.2823 - accuracy: 0.8763\n",
            "Epoch 3/20\n",
            "15596/15596 [==============================] - 52s 3ms/step - loss: 0.2566 - accuracy: 0.8888\n",
            "Epoch 4/20\n",
            "15596/15596 [==============================] - 51s 3ms/step - loss: 0.2424 - accuracy: 0.8959\n",
            "Epoch 5/20\n",
            "15596/15596 [==============================] - 47s 3ms/step - loss: 0.2336 - accuracy: 0.8998\n",
            "Epoch 6/20\n",
            "15596/15596 [==============================] - 47s 3ms/step - loss: 0.2277 - accuracy: 0.9028\n",
            "Epoch 7/20\n",
            "15596/15596 [==============================] - 48s 3ms/step - loss: 0.2231 - accuracy: 0.9052\n",
            "Epoch 8/20\n",
            "15596/15596 [==============================] - 46s 3ms/step - loss: 0.2195 - accuracy: 0.9067\n",
            "Epoch 9/20\n",
            "15596/15596 [==============================] - 47s 3ms/step - loss: 0.2167 - accuracy: 0.9080\n",
            "Epoch 10/20\n",
            "15596/15596 [==============================] - 48s 3ms/step - loss: 0.2143 - accuracy: 0.9092\n",
            "Epoch 11/20\n",
            "15596/15596 [==============================] - 50s 3ms/step - loss: 0.2124 - accuracy: 0.9105\n",
            "Epoch 12/20\n",
            "15596/15596 [==============================] - 47s 3ms/step - loss: 0.2107 - accuracy: 0.9109\n",
            "Epoch 13/20\n",
            "15596/15596 [==============================] - 46s 3ms/step - loss: 0.2093 - accuracy: 0.9116\n",
            "Epoch 14/20\n",
            "15596/15596 [==============================] - 46s 3ms/step - loss: 0.2081 - accuracy: 0.9122\n",
            "Epoch 15/20\n",
            "15596/15596 [==============================] - 45s 3ms/step - loss: 0.2070 - accuracy: 0.9125\n",
            "Epoch 16/20\n",
            "15596/15596 [==============================] - 46s 3ms/step - loss: 0.2061 - accuracy: 0.9132\n",
            "Epoch 17/20\n",
            "15596/15596 [==============================] - 45s 3ms/step - loss: 0.2051 - accuracy: 0.9135\n",
            "Epoch 18/20\n",
            "15596/15596 [==============================] - 45s 3ms/step - loss: 0.2044 - accuracy: 0.9139\n",
            "Epoch 19/20\n",
            "15596/15596 [==============================] - 45s 3ms/step - loss: 0.2037 - accuracy: 0.9142\n",
            "Epoch 20/20\n",
            "15596/15596 [==============================] - 46s 3ms/step - loss: 0.2030 - accuracy: 0.9146\n"
          ]
        }
      ]
    },
    {
      "cell_type": "code",
      "source": [
        "test_preds = []\n",
        "for i in range(len(test_negs)):\n",
        "    p_user = np.full(len(test_negs[0])+1,i, dtype='int32').reshape(-1, 1)  \n",
        "    new_test = np.concatenate((np.array(test_negs[i]),np.array([test_df['item_id_enc'][i]])))\n",
        "    # x = tf.math.top_k(tf.squeeze(tf.squeeze(mlp_model.predict([p_user,test_negs[i]]), axis = 1), axis =1),k =100)[1]\n",
        "    x = tf.math.top_k(tf.squeeze(tf.squeeze(mlp_model.predict([p_user,new_test]), axis = 1), axis =1),k =10)[1]\n",
        "    # y = test_negs[i]\n",
        "    y = new_test\n",
        "    test_preds.append(y[np.array(x)])\n",
        "    # test_preds.append(tf.math.top_k(tf.squeeze(tf.squeeze(mlp_model.predict([p_user,test_negs[i]]), axis = 1), axis =1),k =10)[1])"
      ],
      "metadata": {
        "id": "ue0fLa7PANtJ"
      },
      "execution_count": 18,
      "outputs": []
    },
    {
      "cell_type": "markdown",
      "source": [
        "###EVALUATION\n",
        "for evaluation, hit rate @10 will be calculated"
      ],
      "metadata": {
        "id": "lR97DYZVNEKR"
      }
    },
    {
      "cell_type": "code",
      "source": [
        "def hit_calculator(leftOut, top_preds):\n",
        "    hits = []\n",
        "    total = 0\n",
        "    h= 0\n",
        "    for i in range(len(leftOut)):\n",
        "        # print(i)\n",
        "        if leftOut[i] in top_preds[i]:\n",
        "            hits.append(1)\n",
        "            h +=1\n",
        "        else :\n",
        "            hits.append(0)\n",
        "    total +=1\n",
        "    return hits, h/total\n",
        "\n",
        "total_hits,sonuc =hit_calculator(test_df['item_id_enc'],test_preds)\n",
        "np.mean(total_hits)"
      ],
      "metadata": {
        "colab": {
          "base_uri": "https://localhost:8080/"
        },
        "id": "C5vc0GqeANnB",
        "outputId": "dad378ce-2722-4daf-9ca6-5b82f089bf8b"
      },
      "execution_count": 19,
      "outputs": [
        {
          "output_type": "execute_result",
          "data": {
            "text/plain": [
              "0.6839872746553552"
            ]
          },
          "metadata": {},
          "execution_count": 19
        }
      ]
    },
    {
      "cell_type": "code",
      "source": [
        "def infer_func(user_id):\n",
        "    p_user = np.full((num_items-1), user_id, dtype='int32').reshape(-1, 1)  \n",
        "    user_preds = mlp_model.predict([p_user, np.arange(1,num_items).reshape(-1,1)])\n",
        "    user_preds = tf.math.top_k(tf.squeeze(tf.squeeze(user_preds, axis = 1), axis =1),k =10)[1]\n",
        "    return user_preds"
      ],
      "metadata": {
        "id": "knyq5RvCANgB"
      },
      "execution_count": 20,
      "outputs": []
    },
    {
      "cell_type": "code",
      "source": [
        "for i in list(np.array(infer_func(3))):\n",
        "    print(item_2title[enc_2item[i]])"
      ],
      "metadata": {
        "colab": {
          "base_uri": "https://localhost:8080/"
        },
        "id": "LRniwYHpANdD",
        "outputId": "cc0a8e8c-2d00-4fc5-b4fe-eaa2917195d3"
      },
      "execution_count": 21,
      "outputs": [
        {
          "output_type": "stream",
          "name": "stdout",
          "text": [
            "Ulee's Gold (1997)\n",
            "My Best Friend's Wedding (1997)\n",
            "Midnight in the Garden of Good and Evil (1997)\n",
            "Crash (1996)\n",
            "Dante's Peak (1997)\n",
            "Conan the Barbarian (1981)\n",
            "Desperate Measures (1998)\n",
            "Full Monty, The (1997)\n",
            "Nosferatu (Nosferatu, eine Symphonie des Grauens) (1922)\n",
            "Ruling Class, The (1972)\n"
          ]
        }
      ]
    }
  ]
}